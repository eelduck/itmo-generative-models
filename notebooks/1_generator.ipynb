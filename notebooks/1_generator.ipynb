{
 "cells": [
  {
   "cell_type": "code",
   "execution_count": 1,
   "id": "3d555de2-e28d-4af0-843e-e214b9ea3028",
   "metadata": {},
   "outputs": [
    {
     "data": {
      "application/javascript": [
       "IPython.notebook.set_autosave_interval(1000)"
      ]
     },
     "metadata": {},
     "output_type": "display_data"
    },
    {
     "name": "stdout",
     "output_type": "stream",
     "text": [
      "Autosaving every 1 seconds\n"
     ]
    }
   ],
   "source": [
    "%reload_ext autoreload\n",
    "%autoreload 1\n",
    "%autosave 1"
   ]
  },
  {
   "cell_type": "code",
   "execution_count": 2,
   "id": "b169e4e3-08ae-4a31-8542-d2f0e6f899b9",
   "metadata": {},
   "outputs": [],
   "source": [
    "from itertools import product\n",
    "from collections import defaultdict\n",
    "import random"
   ]
  },
  {
   "cell_type": "code",
   "execution_count": 3,
   "id": "55142bc3-8215-4cf0-8bca-b4a7ff146d98",
   "metadata": {},
   "outputs": [],
   "source": [
    "styles = {\n",
    "    'прическа':[\n",
    "        'нет волос',\n",
    "        'длинные в пучок',\n",
    "        'длинные волнистые',\n",
    "        'длинные прямые',\n",
    "        'короткая волнистые',\n",
    "        'короткая прямые',\n",
    "        'короткая курчавые'\n",
    "    ],\n",
    "    'цвет волос':[\n",
    "        'черный',\n",
    "        'блонд',\n",
    "        'каштановый',\n",
    "        'пастельный розовый',\n",
    "        'рыжий',\n",
    "        'серебристо серый',\n",
    "    ],\n",
    "    'аксесуар':[\n",
    "        'нет очков',\n",
    "        'круглые очки',\n",
    "        'солнцезащитные очки',\n",
    "    ],\n",
    "    'одежда':[\n",
    "        'худи',\n",
    "        'комбинезон',\n",
    "        'футболка с круглым вырезом',\n",
    "        'футболка с V-вырезом',\n",
    "    ],\n",
    "    'цвет одежды':[\n",
    "        'черный',\n",
    "        'синий',\n",
    "        'серый',\n",
    "        'зеленый',\n",
    "        'оранжевый',\n",
    "        'розовый',\n",
    "        'красный',\n",
    "        'белый'\n",
    "    ],\n",
    "}\n",
    "\n",
    "styles_count = {\n",
    "    'прическа':[\n",
    "        7,\n",
    "        0,\n",
    "        1,\n",
    "        23,\n",
    "        1,\n",
    "        11,\n",
    "        7\n",
    "    ],\n",
    "    'цвет волос':[\n",
    "        7,\n",
    "        6,\n",
    "        2,\n",
    "        3,\n",
    "        8,\n",
    "        24,\n",
    "    ],\n",
    "    'аксесуар':[\n",
    "        11,\n",
    "        22,\n",
    "        17,\n",
    "    ],\n",
    "    'одежда':[\n",
    "        7,\n",
    "        18,\n",
    "        19,\n",
    "        6,\n",
    "    ],\n",
    "    'цвет одежды':[\n",
    "        4,\n",
    "        5,\n",
    "        6,\n",
    "        8,\n",
    "        6,\n",
    "        8,\n",
    "        7,\n",
    "        6\n",
    "    ],\n",
    "}"
   ]
  },
  {
   "cell_type": "code",
   "execution_count": 4,
   "id": "8563abfe-c970-4025-9c6d-ddbc0a99f936",
   "metadata": {},
   "outputs": [],
   "source": [
    "class StylesGenerator:\n",
    "    def __init__(\n",
    "        self,\n",
    "        styles: dict[str, list],\n",
    "        styles_count: dict[str, list]\n",
    "    ) -> None:\n",
    "        self._all_possible_styles = list(product(*styles.values()))\n",
    "        self._styles_weights = self._calculate_weights(styles, styles_count)\n",
    "\n",
    "    def _calculate_weights(self, styles, styles_count):\n",
    "        styles_probabilities = self._calculate_probabilities(styles, styles_count)\n",
    "        weights = []\n",
    "        for style in self._all_possible_styles:\n",
    "            style_prob = 1\n",
    "            for style_name, style_component in zip(style, styles.keys()):\n",
    "                style_prob *= styles_probabilities[style_component][style_name]\n",
    "            weights.append(style_prob)\n",
    "        return weights\n",
    "\n",
    "    def _calculate_probabilities(self, styles, styles_count):\n",
    "        probabilities = defaultdict(dict)\n",
    "        for style_component, available_styles in styles.items():\n",
    "            for style_index, style_name in enumerate(available_styles):\n",
    "                probabilities[style_component][style_name] = (\n",
    "                    (styles_count[style_component][style_index] + 1) / \n",
    "                    (sum(styles_count[style_component]) + len(styles_count[style_component]))\n",
    "                )\n",
    "        return probabilities\n",
    "\n",
    "    def __iter__(self):\n",
    "        return self\n",
    "\n",
    "    def __next__(self):\n",
    "        generated_style = random.choices(\n",
    "            self._all_possible_styles,\n",
    "            self._styles_weights,\n",
    "            k=1\n",
    "        )[0]\n",
    "        return generated_style, self._styles_weights[self._all_possible_styles.index(generated_style)]"
   ]
  },
  {
   "cell_type": "code",
   "execution_count": 5,
   "id": "a96f74d6-4728-4a75-8479-d76e27823e5d",
   "metadata": {},
   "outputs": [],
   "source": [
    "sg = StylesGenerator(styles, styles_count)"
   ]
  },
  {
   "cell_type": "code",
   "execution_count": 6,
   "id": "e0a1e2cb-c00d-4283-9c69-6bd31d42ce22",
   "metadata": {},
   "outputs": [
    {
     "data": {
      "text/plain": [
       "(('короткая прямые',\n",
       "  'серебристо серый',\n",
       "  'нет очков',\n",
       "  'комбинезон',\n",
       "  'оранжевый'),\n",
       " 0.0009036362321983663)"
      ]
     },
     "execution_count": 6,
     "metadata": {},
     "output_type": "execute_result"
    }
   ],
   "source": [
    "next(sg)"
   ]
  },
  {
   "cell_type": "markdown",
   "id": "b3496f38-ae9c-4c34-b6c2-87eec5b16a85",
   "metadata": {},
   "source": [
    "# Avatars generation"
   ]
  },
  {
   "cell_type": "code",
   "execution_count": 7,
   "id": "11402331-8252-4d41-9eef-a3aa9ffb0a35",
   "metadata": {},
   "outputs": [
    {
     "ename": "ModuleNotFoundError",
     "evalue": "No module named 'PIL'",
     "output_type": "error",
     "traceback": [
      "\u001b[0;31m---------------------------------------------------------------------------\u001b[0m",
      "\u001b[0;31mModuleNotFoundError\u001b[0m                       Traceback (most recent call last)",
      "Cell \u001b[0;32mIn[7], line 2\u001b[0m\n\u001b[1;32m      1\u001b[0m \u001b[38;5;28;01mimport\u001b[39;00m \u001b[38;5;21;01mnumpy\u001b[39;00m \u001b[38;5;28;01mas\u001b[39;00m \u001b[38;5;21;01mnp\u001b[39;00m\n\u001b[0;32m----> 2\u001b[0m \u001b[38;5;28;01mfrom\u001b[39;00m \u001b[38;5;21;01mPIL\u001b[39;00m \u001b[38;5;28;01mimport\u001b[39;00m Image\n",
      "\u001b[0;31mModuleNotFoundError\u001b[0m: No module named 'PIL'"
     ]
    }
   ],
   "source": [
    "import numpy as np\n",
    "from PIL import Image"
   ]
  },
  {
   "cell_type": "code",
   "execution_count": null,
   "id": "55bfb09d-f728-43c9-a87b-529e31a0040b",
   "metadata": {},
   "outputs": [],
   "source": []
  }
 ],
 "metadata": {
  "kernelspec": {
   "display_name": "Python 3 (ipykernel)",
   "language": "python",
   "name": "python3"
  },
  "language_info": {
   "codemirror_mode": {
    "name": "ipython",
    "version": 3
   },
   "file_extension": ".py",
   "mimetype": "text/x-python",
   "name": "python",
   "nbconvert_exporter": "python",
   "pygments_lexer": "ipython3",
   "version": "3.10.11"
  }
 },
 "nbformat": 4,
 "nbformat_minor": 5
}
